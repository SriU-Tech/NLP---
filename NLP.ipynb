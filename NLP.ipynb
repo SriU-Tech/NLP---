{
 "cells": [
  {
   "cell_type": "code",
   "execution_count": 2,
   "id": "ff3c32bf-ffab-4425-bd69-c20fabe461c3",
   "metadata": {},
   "outputs": [
    {
     "name": "stdout",
     "output_type": "stream",
     "text": [
      "Requirement already satisfied: nltk in c:\\users\\sripa\\anaconda3\\lib\\site-packages (3.9.1)\n",
      "Requirement already satisfied: click in c:\\users\\sripa\\anaconda3\\lib\\site-packages (from nltk) (8.1.8)\n",
      "Requirement already satisfied: joblib in c:\\users\\sripa\\anaconda3\\lib\\site-packages (from nltk) (1.4.2)\n",
      "Requirement already satisfied: regex>=2021.8.3 in c:\\users\\sripa\\anaconda3\\lib\\site-packages (from nltk) (2024.11.6)\n",
      "Requirement already satisfied: tqdm in c:\\users\\sripa\\appdata\\roaming\\python\\python312\\site-packages (from nltk) (4.67.1)\n",
      "Requirement already satisfied: colorama in c:\\users\\sripa\\anaconda3\\lib\\site-packages (from click->nltk) (0.4.6)\n",
      "Note: you may need to restart the kernel to use updated packages.\n"
     ]
    }
   ],
   "source": [
    "pip install nltk"
   ]
  },
  {
   "cell_type": "code",
   "execution_count": 5,
   "id": "dd488d08-0962-45f7-b156-cc6c25824116",
   "metadata": {},
   "outputs": [
    {
     "name": "stderr",
     "output_type": "stream",
     "text": [
      "[nltk_data] Downloading package stopwords to\n",
      "[nltk_data]     C:\\Users\\sripa\\AppData\\Roaming\\nltk_data...\n",
      "[nltk_data]   Package stopwords is already up-to-date!\n",
      "[nltk_data] Downloading package punkt to\n",
      "[nltk_data]     C:\\Users\\sripa\\AppData\\Roaming\\nltk_data...\n",
      "[nltk_data]   Package punkt is already up-to-date!\n"
     ]
    }
   ],
   "source": [
    "#import the libraries\n",
    "import numpy as np\n",
    "import pandas as pd\n",
    "import os\n",
    "import re\n",
    "import nltk\n",
    "nltk.download('stopwords')\n",
    "nltk.download('punkt')\n",
    "from nltk.corpus import stopwords\n",
    "STOPWORDS = set(stopwords.words('english'))\n",
    "import matplotlib.pyplot as plt\n",
    "from sklearn.feature_extraction.text import CountVectorizer,TfidfVectorizer\n",
    "from sklearn.model_selection import train_test_split\n",
    "from sklearn.ensemble import RandomForestClassifier\n",
    "from sklearn.linear_model import LogisticRegression\n",
    "from sklearn.svm import LinearSVC\n",
    "from sklearn.naive_bayes import MultinomialNB\n",
    "from sklearn.metrics import classification_report, confusion_matrix, accuracy_score"
   ]
  },
  {
   "cell_type": "code",
   "execution_count": 6,
   "id": "b5e5cb4c-e951-42df-bea4-0306ee57a38b",
   "metadata": {},
   "outputs": [],
   "source": [
    "input_data = pd.read_csv('Tweets.csv')"
   ]
  },
  {
   "cell_type": "code",
   "execution_count": 7,
   "id": "c44f5d7f-b950-494d-9791-bd310ca23292",
   "metadata": {},
   "outputs": [
    {
     "data": {
      "text/html": [
       "<div>\n",
       "<style scoped>\n",
       "    .dataframe tbody tr th:only-of-type {\n",
       "        vertical-align: middle;\n",
       "    }\n",
       "\n",
       "    .dataframe tbody tr th {\n",
       "        vertical-align: top;\n",
       "    }\n",
       "\n",
       "    .dataframe thead th {\n",
       "        text-align: right;\n",
       "    }\n",
       "</style>\n",
       "<table border=\"1\" class=\"dataframe\">\n",
       "  <thead>\n",
       "    <tr style=\"text-align: right;\">\n",
       "      <th></th>\n",
       "      <th>label</th>\n",
       "      <th>tweet</th>\n",
       "    </tr>\n",
       "  </thead>\n",
       "  <tbody>\n",
       "    <tr>\n",
       "      <th>0</th>\n",
       "      <td>positive</td>\n",
       "      <td>@VirginAmerica nervous about my flight from DC...</td>\n",
       "    </tr>\n",
       "    <tr>\n",
       "      <th>1</th>\n",
       "      <td>positive</td>\n",
       "      <td>@VirginAmerica cool picture of another VirginA...</td>\n",
       "    </tr>\n",
       "    <tr>\n",
       "      <th>2</th>\n",
       "      <td>positive</td>\n",
       "      <td>@VirginAmerica Keep up the great work :)</td>\n",
       "    </tr>\n",
       "    <tr>\n",
       "      <th>3</th>\n",
       "      <td>positive</td>\n",
       "      <td>@VirginAmerica my goodness your people @love f...</td>\n",
       "    </tr>\n",
       "    <tr>\n",
       "      <th>4</th>\n",
       "      <td>positive</td>\n",
       "      <td>@VirginAmerica Thanks for a great flight from ...</td>\n",
       "    </tr>\n",
       "  </tbody>\n",
       "</table>\n",
       "</div>"
      ],
      "text/plain": [
       "      label                                              tweet\n",
       "0  positive  @VirginAmerica nervous about my flight from DC...\n",
       "1  positive  @VirginAmerica cool picture of another VirginA...\n",
       "2  positive           @VirginAmerica Keep up the great work :)\n",
       "3  positive  @VirginAmerica my goodness your people @love f...\n",
       "4  positive  @VirginAmerica Thanks for a great flight from ..."
      ]
     },
     "execution_count": 7,
     "metadata": {},
     "output_type": "execute_result"
    }
   ],
   "source": [
    "input_data.head()"
   ]
  },
  {
   "cell_type": "code",
   "execution_count": 8,
   "id": "61ddfa1e-39ac-40eb-9ac7-695497c21ceb",
   "metadata": {},
   "outputs": [],
   "source": [
    "input_data = input_data[['label', 'tweet']]"
   ]
  },
  {
   "cell_type": "code",
   "execution_count": 9,
   "id": "d9f93b7f-2f3c-40b2-bceb-1a3303bfd9c9",
   "metadata": {},
   "outputs": [
    {
     "data": {
      "text/plain": [
       "(14438, 2)"
      ]
     },
     "execution_count": 9,
     "metadata": {},
     "output_type": "execute_result"
    }
   ],
   "source": [
    "input_data.shape"
   ]
  },
  {
   "cell_type": "code",
   "execution_count": 10,
   "id": "e147f75e-7370-46ef-a2ca-7c2e6a0c9fb7",
   "metadata": {},
   "outputs": [],
   "source": [
    "label_dist = input_data['label'].value_counts().to_dict()"
   ]
  },
  {
   "cell_type": "code",
   "execution_count": 11,
   "id": "c7506fa2-d8f7-4867-a93c-65755875e9e6",
   "metadata": {},
   "outputs": [
    {
     "data": {
      "image/png": "[encoded data removed]",
      "text/plain": [
       "<Figure size 800x500 with 1 Axes>"
      ]
     },
     "metadata": {},
     "output_type": "display_data"
    }
   ],
   "source": [
    "fig = plt.figure(figsize = (8,5))\n",
    "ax = plt.bar(label_dist.keys(), label_dist.keys(), width = 0.25)\n",
    "plt.xticks([0,1,2])\n",
    "plt.xlabel(\"Sentiment\")\n",
    "plt.ylabel(\"Tweet Count\")\n",
    "plt.show()"
   ]
  },
  {
   "cell_type": "code",
   "execution_count": 12,
   "id": "92b7ed9f-a3a7-44b9-a9ce-cfb447609566",
   "metadata": {},
   "outputs": [
    {
     "data": {
      "text/plain": [
       "212"
      ]
     },
     "execution_count": 12,
     "metadata": {},
     "output_type": "execute_result"
    }
   ],
   "source": [
    "len(input_data['tweet'])-len(input_data['tweet'].drop_duplicates())"
   ]
  },
  {
   "cell_type": "code",
   "execution_count": 13,
   "id": "4d2948f5-cbb3-4b95-8e31-c5ab551fdeae",
   "metadata": {},
   "outputs": [],
   "source": [
    "input_data=input_data.drop_duplicates(subset='tweet', keep=\"last\")"
   ]
  },
  {
   "cell_type": "code",
   "execution_count": 14,
   "id": "0002b658-868c-46d2-b3f4-6919eb12753d",
   "metadata": {},
   "outputs": [],
   "source": [
    "input_data['length']=input_data['tweet'].apply(lambda x: len(x.split(' ')))"
   ]
  },
  {
   "cell_type": "code",
   "execution_count": 15,
   "id": "6438e948-367d-4ac8-8521-de5654a9f99c",
   "metadata": {},
   "outputs": [
    {
     "data": {
      "text/html": [
       "<div>\n",
       "<style scoped>\n",
       "    .dataframe tbody tr th:only-of-type {\n",
       "        vertical-align: middle;\n",
       "    }\n",
       "\n",
       "    .dataframe tbody tr th {\n",
       "        vertical-align: top;\n",
       "    }\n",
       "\n",
       "    .dataframe thead th {\n",
       "        text-align: right;\n",
       "    }\n",
       "</style>\n",
       "<table border=\"1\" class=\"dataframe\">\n",
       "  <thead>\n",
       "    <tr style=\"text-align: right;\">\n",
       "      <th></th>\n",
       "      <th>label</th>\n",
       "      <th>tweet</th>\n",
       "      <th>length</th>\n",
       "    </tr>\n",
       "  </thead>\n",
       "  <tbody>\n",
       "    <tr>\n",
       "      <th>3566</th>\n",
       "      <td>negative</td>\n",
       "      <td>@united Thanks, but not so much the missing ba...</td>\n",
       "      <td>24</td>\n",
       "    </tr>\n",
       "    <tr>\n",
       "      <th>5440</th>\n",
       "      <td>positive</td>\n",
       "      <td>@SouthwestAir's CEO Kelly draws record crowd t...</td>\n",
       "      <td>13</td>\n",
       "    </tr>\n",
       "    <tr>\n",
       "      <th>4429</th>\n",
       "      <td>positive</td>\n",
       "      <td>@SouthwestAir really easy for locals to get do...</td>\n",
       "      <td>12</td>\n",
       "    </tr>\n",
       "    <tr>\n",
       "      <th>13543</th>\n",
       "      <td>negative</td>\n",
       "      <td>@AmericanAir We have been sitting on this bird...</td>\n",
       "      <td>26</td>\n",
       "    </tr>\n",
       "    <tr>\n",
       "      <th>4858</th>\n",
       "      <td>negative</td>\n",
       "      <td>@SouthwestAir I'm running out of money to keep...</td>\n",
       "      <td>23</td>\n",
       "    </tr>\n",
       "    <tr>\n",
       "      <th>8456</th>\n",
       "      <td>negative</td>\n",
       "      <td>@JetBlue and the 20min line I stood in to drop...</td>\n",
       "      <td>13</td>\n",
       "    </tr>\n",
       "    <tr>\n",
       "      <th>3558</th>\n",
       "      <td>negative</td>\n",
       "      <td>@united, Thanks, but I didn't want to see 'we'...</td>\n",
       "      <td>25</td>\n",
       "    </tr>\n",
       "    <tr>\n",
       "      <th>6342</th>\n",
       "      <td>positive</td>\n",
       "      <td>@SouthwestAir you need this song for your next...</td>\n",
       "      <td>13</td>\n",
       "    </tr>\n",
       "    <tr>\n",
       "      <th>5953</th>\n",
       "      <td>positive</td>\n",
       "      <td>@SouthwestAir snapchat, iMessage, instagram......</td>\n",
       "      <td>4</td>\n",
       "    </tr>\n",
       "    <tr>\n",
       "      <th>6028</th>\n",
       "      <td>positive</td>\n",
       "      <td>@SouthwestAir so when do we find out who won t...</td>\n",
       "      <td>13</td>\n",
       "    </tr>\n",
       "  </tbody>\n",
       "</table>\n",
       "</div>"
      ],
      "text/plain": [
       "          label                                              tweet  length\n",
       "3566   negative  @united Thanks, but not so much the missing ba...      24\n",
       "5440   positive  @SouthwestAir's CEO Kelly draws record crowd t...      13\n",
       "4429   positive  @SouthwestAir really easy for locals to get do...      12\n",
       "13543  negative  @AmericanAir We have been sitting on this bird...      26\n",
       "4858   negative  @SouthwestAir I'm running out of money to keep...      23\n",
       "8456   negative  @JetBlue and the 20min line I stood in to drop...      13\n",
       "3558   negative  @united, Thanks, but I didn't want to see 'we'...      25\n",
       "6342   positive  @SouthwestAir you need this song for your next...      13\n",
       "5953   positive  @SouthwestAir snapchat, iMessage, instagram......       4\n",
       "6028   positive  @SouthwestAir so when do we find out who won t...      13"
      ]
     },
     "execution_count": 15,
     "metadata": {},
     "output_type": "execute_result"
    }
   ],
   "source": [
    "input_data.sample(10)"
   ]
  },
  {
   "cell_type": "code",
   "execution_count": 16,
   "id": "4557c742-59cd-4e28-bfac-3209f4502b9f",
   "metadata": {},
   "outputs": [
    {
     "name": "stdout",
     "output_type": "stream",
     "text": [
      "20\n",
      "14\n"
     ]
    }
   ],
   "source": [
    "print(round(input_data[input_data['label']=='negative']['length'].mean()))\n",
    "print(round(input_data[input_data['label']=='positive']['length'].mean()))"
   ]
  },
  {
   "cell_type": "code",
   "execution_count": 17,
   "id": "d0d097e1-6cc2-4653-9e3b-9841788dadb7",
   "metadata": {},
   "outputs": [
    {
     "data": {
      "text/plain": [
       "<Axes: ylabel='Frequency'>"
      ]
     },
     "execution_count": 17,
     "metadata": {},
     "output_type": "execute_result"
    },
    {
     "data": {
      "image/png": "[encoded data removed]",
      "text/plain": [
       "<Figure size 640x480 with 1 Axes>"
      ]
     },
     "metadata": {},
     "output_type": "display_data"
    }
   ],
   "source": [
    "input_data[input_data['label']=='negative']['length'].plot.hist(bins=10)\n",
    "input_data[input_data['label']=='positive']['length'].plot.hist(bins=10)"
   ]
  },
  {
   "cell_type": "code",
   "execution_count": 18,
   "id": "dd7834fa-2709-44c2-a1cf-e2a70c371478",
   "metadata": {},
   "outputs": [],
   "source": [
    "input_data[\"tweet_new\"]=input_data[\"tweet\"].apply(lambda x: ' '.join([word for word in x.split() if word not in (STOPWORDS)]))"
   ]
  },
  {
   "cell_type": "code",
   "execution_count": 19,
   "id": "49ef1494-55de-4e73-a02e-4d7a4b6feb0f",
   "metadata": {},
   "outputs": [
    {
     "name": "stderr",
     "output_type": "stream",
     "text": [
      "<>:6: SyntaxWarning: invalid escape sequence '\\['\n",
      "<>:6: SyntaxWarning: invalid escape sequence '\\['\n",
      "C:\\Users\\sripa\\AppData\\Local\\Temp\\ipykernel_161656\\1092868546.py:6: SyntaxWarning: invalid escape sequence '\\['\n",
      "  tweet = re.sub('\\[.*?\\]',' ', tweet)\n"
     ]
    }
   ],
   "source": [
    "def text_clean(tweet):\n",
    "    #lowercase the tweet\n",
    "    tweet=tweet.lower()\n",
    "    #remove punctuation \n",
    "    tweet = re.sub('[()!?]', ' ', tweet)\n",
    "    tweet = re.sub('\\[.*?\\]',' ', tweet)\n",
    "    #remove non alphanumeric occurences\n",
    "    tweet = re.sub(\"[^a-z0-9]\",\" \", tweet)\n",
    "    #remove the @mention\n",
    "    tweet = re.sub(\"@[A-Za-z0-9_]+\",\"\", tweet)\n",
    "    #remove the hastags\n",
    "    tweet = re.sub(\"#[A-Za-z0-9_]+\",\"\", tweet)\n",
    "    #remove any links \n",
    "    tweet = re.sub(r\"http\\S+\", \"\", tweet)\n",
    "    tweet = re.sub(r\"www.\\S+\", \"\", tweet)\n",
    "    return tweet"
   ]
  },
  {
   "cell_type": "code",
   "execution_count": 20,
   "id": "d53675e2-bb2f-4343-9bcd-67a113b62043",
   "metadata": {},
   "outputs": [],
   "source": [
    "#apply the function on the tweet column \n",
    "input_data['clean_tweet'] = input_data['tweet_new'].apply(text_clean)"
   ]
  },
  {
   "cell_type": "code",
   "execution_count": 21,
   "id": "1fbd6f43-bf31-4ab2-a78d-de7e17f4b5a3",
   "metadata": {},
   "outputs": [
    {
     "data": {
      "text/html": [
       "<div>\n",
       "<style scoped>\n",
       "    .dataframe tbody tr th:only-of-type {\n",
       "        vertical-align: middle;\n",
       "    }\n",
       "\n",
       "    .dataframe tbody tr th {\n",
       "        vertical-align: top;\n",
       "    }\n",
       "\n",
       "    .dataframe thead th {\n",
       "        text-align: right;\n",
       "    }\n",
       "</style>\n",
       "<table border=\"1\" class=\"dataframe\">\n",
       "  <thead>\n",
       "    <tr style=\"text-align: right;\">\n",
       "      <th></th>\n",
       "      <th>tweet</th>\n",
       "      <th>clean_tweet</th>\n",
       "    </tr>\n",
       "  </thead>\n",
       "  <tbody>\n",
       "    <tr>\n",
       "      <th>1623</th>\n",
       "      <td>@united Then you delete my return ticket to Eu...</td>\n",
       "      <td>united then delete return ticket europe blame...</td>\n",
       "    </tr>\n",
       "    <tr>\n",
       "      <th>11651</th>\n",
       "      <td>@USAirways no we haven't because we've been in...</td>\n",
       "      <td>usairways line service desk 1hr 1 2 spot</td>\n",
       "    </tr>\n",
       "    <tr>\n",
       "      <th>7999</th>\n",
       "      <td>@JetBlue flight 2302 from JFK to BUF.</td>\n",
       "      <td>jetblue flight 2302 jfk buf</td>\n",
       "    </tr>\n",
       "    <tr>\n",
       "      <th>11095</th>\n",
       "      <td>@USAirways on Sunday! Can't wait! See you then</td>\n",
       "      <td>usairways sunday  can t wait  see</td>\n",
       "    </tr>\n",
       "    <tr>\n",
       "      <th>5362</th>\n",
       "      <td>@SouthwestAir any spare tickets for Vegas? Wou...</td>\n",
       "      <td>southwestair spare tickets vegas  would forev...</td>\n",
       "    </tr>\n",
       "    <tr>\n",
       "      <th>433</th>\n",
       "      <td>@united Fingers crossed &amp;amp; its all intact. ...</td>\n",
       "      <td>united fingers crossed  amp  intact  very dis...</td>\n",
       "    </tr>\n",
       "    <tr>\n",
       "      <th>5864</th>\n",
       "      <td>@SouthwestAir are passengers automatically reb...</td>\n",
       "      <td>southwestair passengers automatically rebooke...</td>\n",
       "    </tr>\n",
       "    <tr>\n",
       "      <th>3199</th>\n",
       "      <td>@united I was abused , threatened and forced t...</td>\n",
       "      <td>united i abused   threatened forced travel lo...</td>\n",
       "    </tr>\n",
       "    <tr>\n",
       "      <th>1440</th>\n",
       "      <td>@united I am UA elite Gold and have a UA Chase...</td>\n",
       "      <td>united i ua elite gold ua chase pres  plus cr...</td>\n",
       "    </tr>\n",
       "    <tr>\n",
       "      <th>10833</th>\n",
       "      <td>@USAirways No hot food on a 5 hour flight? Cra...</td>\n",
       "      <td>usairways no hot food 5 hour flight  crazy  c...</td>\n",
       "    </tr>\n",
       "  </tbody>\n",
       "</table>\n",
       "</div>"
      ],
      "text/plain": [
       "                                                   tweet  \\\n",
       "1623   @united Then you delete my return ticket to Eu...   \n",
       "11651  @USAirways no we haven't because we've been in...   \n",
       "7999               @JetBlue flight 2302 from JFK to BUF.   \n",
       "11095     @USAirways on Sunday! Can't wait! See you then   \n",
       "5362   @SouthwestAir any spare tickets for Vegas? Wou...   \n",
       "433    @united Fingers crossed &amp; its all intact. ...   \n",
       "5864   @SouthwestAir are passengers automatically reb...   \n",
       "3199   @united I was abused , threatened and forced t...   \n",
       "1440   @united I am UA elite Gold and have a UA Chase...   \n",
       "10833  @USAirways No hot food on a 5 hour flight? Cra...   \n",
       "\n",
       "                                             clean_tweet  \n",
       "1623    united then delete return ticket europe blame...  \n",
       "11651          usairways line service desk 1hr 1 2 spot   \n",
       "7999                        jetblue flight 2302 jfk buf   \n",
       "11095                  usairways sunday  can t wait  see  \n",
       "5362    southwestair spare tickets vegas  would forev...  \n",
       "433     united fingers crossed  amp  intact  very dis...  \n",
       "5864    southwestair passengers automatically rebooke...  \n",
       "3199    united i abused   threatened forced travel lo...  \n",
       "1440    united i ua elite gold ua chase pres  plus cr...  \n",
       "10833   usairways no hot food 5 hour flight  crazy  c...  "
      ]
     },
     "execution_count": 21,
     "metadata": {},
     "output_type": "execute_result"
    }
   ],
   "source": [
    "input_data[['tweet','clean_tweet']].sample(10)"
   ]
  },
  {
   "cell_type": "code",
   "execution_count": 22,
   "id": "db1d0d10-1bd7-49bb-a377-65fba8d6f6fc",
   "metadata": {},
   "outputs": [],
   "source": [
    "input_data['new_length']=input_data['clean_tweet'].apply(lambda x: len(x.split(\" \")))"
   ]
  },
  {
   "cell_type": "code",
   "execution_count": 23,
   "id": "afcfa361-c898-4e6a-9f4d-8e7a775bc31b",
   "metadata": {},
   "outputs": [
    {
     "name": "stdout",
     "output_type": "stream",
     "text": [
      "18\n",
      "15\n"
     ]
    }
   ],
   "source": [
    "print(round(input_data[input_data['label']=='negative']['new_length'].mean()))\n",
    "print(round(input_data[input_data['label']=='positive']['new_length'].mean()))"
   ]
  },
  {
   "cell_type": "code",
   "execution_count": 24,
   "id": "f0addc79-bb8a-4f1a-a2af-d35967fc703d",
   "metadata": {
    "scrolled": true
   },
   "outputs": [
    {
     "data": {
      "text/plain": [
       "<Axes: ylabel='Frequency'>"
      ]
     },
     "execution_count": 24,
     "metadata": {},
     "output_type": "execute_result"
    },
    {
     "data": {
      "image/png": "[encoded data removed]",
      "text/plain": [
       "<Figure size 640x480 with 1 Axes>"
      ]
     },
     "metadata": {},
     "output_type": "display_data"
    }
   ],
   "source": [
    "input_data[input_data['label']=='negative']['new_length'].plot.hist(bins=10)\n",
    "input_data[input_data['label']=='positive']['new_length'].plot.hist(bins=10)"
   ]
  },
  {
   "cell_type": "code",
   "execution_count": 32,
   "id": "2ec8e20e-ef71-43b6-a527-97b7106f15b7",
   "metadata": {},
   "outputs": [
    {
     "name": "stdout",
     "output_type": "stream",
     "text": [
      "Requirement already satisfied: nltk in c:\\users\\sripa\\anaconda3\\lib\\site-packages (3.9.1)\n",
      "Requirement already satisfied: click in c:\\users\\sripa\\anaconda3\\lib\\site-packages (from nltk) (8.1.8)\n",
      "Requirement already satisfied: joblib in c:\\users\\sripa\\anaconda3\\lib\\site-packages (from nltk) (1.4.2)\n",
      "Requirement already satisfied: regex>=2021.8.3 in c:\\users\\sripa\\anaconda3\\lib\\site-packages (from nltk) (2024.11.6)\n",
      "Requirement already satisfied: tqdm in c:\\users\\sripa\\appdata\\roaming\\python\\python312\\site-packages (from nltk) (4.67.1)\n",
      "Requirement already satisfied: colorama in c:\\users\\sripa\\anaconda3\\lib\\site-packages (from click->nltk) (0.4.6)\n",
      "Note: you may need to restart the kernel to use updated packages.\n"
     ]
    }
   ],
   "source": [
    "pip install --upgrade nltk"
   ]
  },
  {
   "cell_type": "code",
   "execution_count": 33,
   "id": "c0fcfa8e-20e1-47d8-b945-ba4654fca446",
   "metadata": {},
   "outputs": [
    {
     "name": "stderr",
     "output_type": "stream",
     "text": [
      "[nltk_data] Downloading package punkt to\n",
      "[nltk_data]     C:\\Users\\sripa\\AppData\\Roaming\\nltk_data...\n",
      "[nltk_data]   Package punkt is already up-to-date!\n"
     ]
    },
    {
     "data": {
      "text/plain": [
       "True"
      ]
     },
     "execution_count": 33,
     "metadata": {},
     "output_type": "execute_result"
    }
   ],
   "source": [
    "import nltk\n",
    "nltk.download('punkt')"
   ]
  },
  {
   "cell_type": "code",
   "execution_count": 36,
   "id": "d0730434-1778-46e4-9e01-94706b16380f",
   "metadata": {},
   "outputs": [],
   "source": [
    "from nltk.tokenize import TreebankWordTokenizer\n",
    "\n",
    "tokenizer = TreebankWordTokenizer()\n",
    "words = tokenizer.tokenize(input_data['clean_tweet'].str.cat(sep=' '))\n",
    "dropwords=['to','i','the','a','you','for','on','and','t','is','in','it','of','me','my','that','can','have','not','s',\n",
    "          'co','http','are','was','with','at','your','this','we','be','2','get','from','an','do','so','up','m']\n",
    "filter_words = [word for word in words if word not in dropwords]"
   ]
  },
  {
   "cell_type": "code",
   "execution_count": 37,
   "id": "b0936dce-716b-4c59-ae61-51b8ffd39691",
   "metadata": {},
   "outputs": [],
   "source": [
    "word_freq = nltk.FreqDist(filter_words)\n",
    "wordfreq_df = pd.DataFrame(word_freq.most_common(top_words), columns = ['Word', 'Frequency'])"
   ]
  },
  {
   "cell_type": "code",
   "execution_count": 39,
   "id": "b1f6b1fb-b80d-4c7e-8dd3-79a5f4440005",
   "metadata": {},
   "outputs": [
    {
     "name": "stdout",
     "output_type": "stream",
     "text": [
      "            Word  Frequency\n",
      "0         united       4146\n",
      "1         flight       3829\n",
      "2      usairways       3038\n",
      "3    americanair       2798\n",
      "4   southwestair       2447\n",
      "5        jetblue       2382\n",
      "6         thanks       1035\n",
      "7      cancelled       1031\n",
      "8        service        948\n",
      "9           help        856\n",
      "10          time        773\n",
      "11      customer        741\n",
      "12           amp        667\n",
      "13         hours        664\n",
      "14            us        662\n",
      "15          hold        636\n",
      "16         plane        630\n",
      "17       flights        630\n",
      "18         still        576\n",
      "19         thank        571\n"
     ]
    }
   ],
   "source": [
    "print(wordfreq_df)"
   ]
  },
  {
   "cell_type": "code",
   "execution_count": 41,
   "id": "91f79a06-ae0b-4460-9d8d-feef1ba18697",
   "metadata": {},
   "outputs": [],
   "source": [
    "X_train, X_test, y_train, y_test = train_test_split(input_data[\"clean_tweet\"], input_data['label'], test_size = 0.3, stratify = input_data['label'])"
   ]
  },
  {
   "cell_type": "code",
   "execution_count": 45,
   "id": "e0c16628-24b1-4c36-b214-a5f184a51cb3",
   "metadata": {},
   "outputs": [
    {
     "data": {
      "text/plain": [
       "(9958,)"
      ]
     },
     "execution_count": 45,
     "metadata": {},
     "output_type": "execute_result"
    }
   ],
   "source": [
    "X_train.shape"
   ]
  },
  {
   "cell_type": "code",
   "execution_count": 46,
   "id": "3f1c6572-eaa2-463b-9a8e-ba419fe16bc3",
   "metadata": {},
   "outputs": [
    {
     "data": {
      "text/plain": [
       "(4268,)"
      ]
     },
     "execution_count": 46,
     "metadata": {},
     "output_type": "execute_result"
    }
   ],
   "source": [
    "X_test.shape"
   ]
  },
  {
   "cell_type": "code",
   "execution_count": 48,
   "id": "d8fdd1aa-979a-4ad6-bac5-2fe3e5f0426e",
   "metadata": {},
   "outputs": [
    {
     "data": {
      "text/plain": [
       "label\n",
       "negative    6301\n",
       "positive    3657\n",
       "Name: count, dtype: int64"
      ]
     },
     "execution_count": 48,
     "metadata": {},
     "output_type": "execute_result"
    }
   ],
   "source": [
    "y_train.value_counts()"
   ]
  },
  {
   "cell_type": "code",
   "execution_count": 49,
   "id": "94524ff1-410c-4a85-9754-9fdea20df7d4",
   "metadata": {},
   "outputs": [
    {
     "data": {
      "text/plain": [
       "clean_tweet\n",
       "southwestair thank you                                                                             5\n",
       "americanair thanks                                                                                 3\n",
       "united thank you                                                                                   3\n",
       "united thanks                                                                                      3\n",
       "southwestair thanks                                                                                3\n",
       "                                                                                                  ..\n",
       "united trying get customer service agent  just landed sfo  can t fly 3 layovers 3 kids             1\n",
       "usairways can t get back lost time                                                                 1\n",
       "virginamerica can give silver status 12 months                                                     1\n",
       "united customer service providence airport horrible  do actually care customers making money       1\n",
       "southwestair offering  companionpasses atlanta residing frequent fliers  http   t co mdn5ed58ze    1\n",
       "Name: count, Length: 9933, dtype: int64"
      ]
     },
     "execution_count": 49,
     "metadata": {},
     "output_type": "execute_result"
    }
   ],
   "source": [
    "X_train.value_counts()"
   ]
  },
  {
   "cell_type": "code",
   "execution_count": 50,
   "id": "c2f11f3e-960e-4860-a116-3a79ffa5fb59",
   "metadata": {},
   "outputs": [
    {
     "data": {
      "text/plain": [
       "label\n",
       "negative    2701\n",
       "positive    1567\n",
       "Name: count, dtype: int64"
      ]
     },
     "execution_count": 50,
     "metadata": {},
     "output_type": "execute_result"
    }
   ],
   "source": [
    "y_test.value_counts()"
   ]
  },
  {
   "cell_type": "code",
   "execution_count": 54,
   "id": "56b52e9e-a988-4697-98a0-baafd8dbf3da",
   "metadata": {},
   "outputs": [
    {
     "data": {
      "text/plain": [
       "13150    positive\n",
       "5991     positive\n",
       "1281     negative\n",
       "12316    positive\n",
       "13108    negative\n",
       "Name: label, dtype: object"
      ]
     },
     "execution_count": 54,
     "metadata": {},
     "output_type": "execute_result"
    }
   ],
   "source": [
    "y_test.head()"
   ]
  },
  {
   "cell_type": "code",
   "execution_count": 52,
   "id": "236b1801-274c-4025-bbc9-74ac3c30be5d",
   "metadata": {},
   "outputs": [],
   "source": [
    "vectorizer = CountVectorizer(token_pattern = r'\\b\\w+\\b')\n",
    "X_train_vec = vectorizer.fit_transform(X_train)\n",
    "X_test_vec = vectorizer.transform(X_test)"
   ]
  },
  {
   "cell_type": "code",
   "execution_count": 57,
   "id": "94cde787-b19f-48b8-a231-1afe5d88affd",
   "metadata": {},
   "outputs": [
    {
     "data": {
      "text/html": [
       "<style>#sk-container-id-1 {\n",
       "  /* Definition of color scheme common for light and dark mode */\n",
       "  --sklearn-color-text: #000;\n",
       "  --sklearn-color-text-muted: #666;\n",
       "  --sklearn-color-line: gray;\n",
       "  /* Definition of color scheme for unfitted estimators */\n",
       "  --sklearn-color-unfitted-level-0: #fff5e6;\n",
       "  --sklearn-color-unfitted-level-1: #f6e4d2;\n",
       "  --sklearn-color-unfitted-level-2: #ffe0b3;\n",
       "  --sklearn-color-unfitted-level-3: chocolate;\n",
       "  /* Definition of color scheme for fitted estimators */\n",
       "  --sklearn-color-fitted-level-0: #f0f8ff;\n",
       "  --sklearn-color-fitted-level-1: #d4ebff;\n",
       "  --sklearn-color-fitted-level-2: #b3dbfd;\n",
       "  --sklearn-color-fitted-level-3: cornflowerblue;\n",
       "\n",
       "  /* Specific color for light theme */\n",
       "  --sklearn-color-text-on-default-background: var(--sg-text-color, var(--theme-code-foreground, var(--jp-content-font-color1, black)));\n",
       "  --sklearn-color-background: var(--sg-background-color, var(--theme-background, var(--jp-layout-color0, white)));\n",
       "  --sklearn-color-border-box: var(--sg-text-color, var(--theme-code-foreground, var(--jp-content-font-color1, black)));\n",
       "  --sklearn-color-icon: #696969;\n",
       "\n",
       "  @media (prefers-color-scheme: dark) {\n",
       "    /* Redefinition of color scheme for dark theme */\n",
       "    --sklearn-color-text-on-default-background: var(--sg-text-color, var(--theme-code-foreground, var(--jp-content-font-color1, white)));\n",
       "    --sklearn-color-background: var(--sg-background-color, var(--theme-background, var(--jp-layout-color0, #111)));\n",
       "    --sklearn-color-border-box: var(--sg-text-color, var(--theme-code-foreground, var(--jp-content-font-color1, white)));\n",
       "    --sklearn-color-icon: #878787;\n",
       "  }\n",
       "}\n",
       "\n",
       "#sk-container-id-1 {\n",
       "  color: var(--sklearn-color-text);\n",
       "}\n",
       "\n",
       "#sk-container-id-1 pre {\n",
       "  padding: 0;\n",
       "}\n",
       "\n",
       "#sk-container-id-1 input.sk-hidden--visually {\n",
       "  border: 0;\n",
       "  clip: rect(1px 1px 1px 1px);\n",
       "  clip: rect(1px, 1px, 1px, 1px);\n",
       "  height: 1px;\n",
       "  margin: -1px;\n",
       "  overflow: hidden;\n",
       "  padding: 0;\n",
       "  position: absolute;\n",
       "  width: 1px;\n",
       "}\n",
       "\n",
       "#sk-container-id-1 div.sk-dashed-wrapped {\n",
       "  border: 1px dashed var(--sklearn-color-line);\n",
       "  margin: 0 0.4em 0.5em 0.4em;\n",
       "  box-sizing: border-box;\n",
       "  padding-bottom: 0.4em;\n",
       "  background-color: var(--sklearn-color-background);\n",
       "}\n",
       "\n",
       "#sk-container-id-1 div.sk-container {\n",
       "  /* jupyter's `normalize.less` sets `[hidden] { display: none; }`\n",
       "     but bootstrap.min.css set `[hidden] { display: none !important; }`\n",
       "     so we also need the `!important` here to be able to override the\n",
       "     default hidden behavior on the sphinx rendered scikit-learn.org.\n",
       "     See: https://github.com/scikit-learn/scikit-learn/issues/21755 */\n",
       "  display: inline-block !important;\n",
       "  position: relative;\n",
       "}\n",
       "\n",
       "#sk-container-id-1 div.sk-text-repr-fallback {\n",
       "  display: none;\n",
       "}\n",
       "\n",
       "div.sk-parallel-item,\n",
       "div.sk-serial,\n",
       "div.sk-item {\n",
       "  /* draw centered vertical line to link estimators */\n",
       "  background-image: linear-gradient(var(--sklearn-color-text-on-default-background), var(--sklearn-color-text-on-default-background));\n",
       "  background-size: 2px 100%;\n",
       "  background-repeat: no-repeat;\n",
       "  background-position: center center;\n",
       "}\n",
       "\n",
       "/* Parallel-specific style estimator block */\n",
       "\n",
       "#sk-container-id-1 div.sk-parallel-item::after {\n",
       "  content: \"\";\n",
       "  width: 100%;\n",
       "  border-bottom: 2px solid var(--sklearn-color-text-on-default-background);\n",
       "  flex-grow: 1;\n",
       "}\n",
       "\n",
       "#sk-container-id-1 div.sk-parallel {\n",
       "  display: flex;\n",
       "  align-items: stretch;\n",
       "  justify-content: center;\n",
       "  background-color: var(--sklearn-color-background);\n",
       "  position: relative;\n",
       "}\n",
       "\n",
       "#sk-container-id-1 div.sk-parallel-item {\n",
       "  display: flex;\n",
       "  flex-direction: column;\n",
       "}\n",
       "\n",
       "#sk-container-id-1 div.sk-parallel-item:first-child::after {\n",
       "  align-self: flex-end;\n",
       "  width: 50%;\n",
       "}\n",
       "\n",
       "#sk-container-id-1 div.sk-parallel-item:last-child::after {\n",
       "  align-self: flex-start;\n",
       "  width: 50%;\n",
       "}\n",
       "\n",
       "#sk-container-id-1 div.sk-parallel-item:only-child::after {\n",
       "  width: 0;\n",
       "}\n",
       "\n",
       "/* Serial-specific style estimator block */\n",
       "\n",
       "#sk-container-id-1 div.sk-serial {\n",
       "  display: flex;\n",
       "  flex-direction: column;\n",
       "  align-items: center;\n",
       "  background-color: var(--sklearn-color-background);\n",
       "  padding-right: 1em;\n",
       "  padding-left: 1em;\n",
       "}\n",
       "\n",
       "\n",
       "/* Toggleable style: style used for estimator/Pipeline/ColumnTransformer box that is\n",
       "clickable and can be expanded/collapsed.\n",
       "- Pipeline and ColumnTransformer use this feature and define the default style\n",
       "- Estimators will overwrite some part of the style using the `sk-estimator` class\n",
       "*/\n",
       "\n",
       "/* Pipeline and ColumnTransformer style (default) */\n",
       "\n",
       "#sk-container-id-1 div.sk-toggleable {\n",
       "  /* Default theme specific background. It is overwritten whether we have a\n",
       "  specific estimator or a Pipeline/ColumnTransformer */\n",
       "  background-color: var(--sklearn-color-background);\n",
       "}\n",
       "\n",
       "/* Toggleable label */\n",
       "#sk-container-id-1 label.sk-toggleable__label {\n",
       "  cursor: pointer;\n",
       "  display: flex;\n",
       "  width: 100%;\n",
       "  margin-bottom: 0;\n",
       "  padding: 0.5em;\n",
       "  box-sizing: border-box;\n",
       "  text-align: center;\n",
       "  align-items: start;\n",
       "  justify-content: space-between;\n",
       "  gap: 0.5em;\n",
       "}\n",
       "\n",
       "#sk-container-id-1 label.sk-toggleable__label .caption {\n",
       "  font-size: 0.6rem;\n",
       "  font-weight: lighter;\n",
       "  color: var(--sklearn-color-text-muted);\n",
       "}\n",
       "\n",
       "#sk-container-id-1 label.sk-toggleable__label-arrow:before {\n",
       "  /* Arrow on the left of the label */\n",
       "  content: \"▸\";\n",
       "  float: left;\n",
       "  margin-right: 0.25em;\n",
       "  color: var(--sklearn-color-icon);\n",
       "}\n",
       "\n",
       "#sk-container-id-1 label.sk-toggleable__label-arrow:hover:before {\n",
       "  color: var(--sklearn-color-text);\n",
       "}\n",
       "\n",
       "/* Toggleable content - dropdown */\n",
       "\n",
       "#sk-container-id-1 div.sk-toggleable__content {\n",
       "  max-height: 0;\n",
       "  max-width: 0;\n",
       "  overflow: hidden;\n",
       "  text-align: left;\n",
       "  /* unfitted */\n",
       "  background-color: var(--sklearn-color-unfitted-level-0);\n",
       "}\n",
       "\n",
       "#sk-container-id-1 div.sk-toggleable__content.fitted {\n",
       "  /* fitted */\n",
       "  background-color: var(--sklearn-color-fitted-level-0);\n",
       "}\n",
       "\n",
       "#sk-container-id-1 div.sk-toggleable__content pre {\n",
       "  margin: 0.2em;\n",
       "  border-radius: 0.25em;\n",
       "  color: var(--sklearn-color-text);\n",
       "  /* unfitted */\n",
       "  background-color: var(--sklearn-color-unfitted-level-0);\n",
       "}\n",
       "\n",
       "#sk-container-id-1 div.sk-toggleable__content.fitted pre {\n",
       "  /* unfitted */\n",
       "  background-color: var(--sklearn-color-fitted-level-0);\n",
       "}\n",
       "\n",
       "#sk-container-id-1 input.sk-toggleable__control:checked~div.sk-toggleable__content {\n",
       "  /* Expand drop-down */\n",
       "  max-height: 200px;\n",
       "  max-width: 100%;\n",
       "  overflow: auto;\n",
       "}\n",
       "\n",
       "#sk-container-id-1 input.sk-toggleable__control:checked~label.sk-toggleable__label-arrow:before {\n",
       "  content: \"▾\";\n",
       "}\n",
       "\n",
       "/* Pipeline/ColumnTransformer-specific style */\n",
       "\n",
       "#sk-container-id-1 div.sk-label input.sk-toggleable__control:checked~label.sk-toggleable__label {\n",
       "  color: var(--sklearn-color-text);\n",
       "  background-color: var(--sklearn-color-unfitted-level-2);\n",
       "}\n",
       "\n",
       "#sk-container-id-1 div.sk-label.fitted input.sk-toggleable__control:checked~label.sk-toggleable__label {\n",
       "  background-color: var(--sklearn-color-fitted-level-2);\n",
       "}\n",
       "\n",
       "/* Estimator-specific style */\n",
       "\n",
       "/* Colorize estimator box */\n",
       "#sk-container-id-1 div.sk-estimator input.sk-toggleable__control:checked~label.sk-toggleable__label {\n",
       "  /* unfitted */\n",
       "  background-color: var(--sklearn-color-unfitted-level-2);\n",
       "}\n",
       "\n",
       "#sk-container-id-1 div.sk-estimator.fitted input.sk-toggleable__control:checked~label.sk-toggleable__label {\n",
       "  /* fitted */\n",
       "  background-color: var(--sklearn-color-fitted-level-2);\n",
       "}\n",
       "\n",
       "#sk-container-id-1 div.sk-label label.sk-toggleable__label,\n",
       "#sk-container-id-1 div.sk-label label {\n",
       "  /* The background is the default theme color */\n",
       "  color: var(--sklearn-color-text-on-default-background);\n",
       "}\n",
       "\n",
       "/* On hover, darken the color of the background */\n",
       "#sk-container-id-1 div.sk-label:hover label.sk-toggleable__label {\n",
       "  color: var(--sklearn-color-text);\n",
       "  background-color: var(--sklearn-color-unfitted-level-2);\n",
       "}\n",
       "\n",
       "/* Label box, darken color on hover, fitted */\n",
       "#sk-container-id-1 div.sk-label.fitted:hover label.sk-toggleable__label.fitted {\n",
       "  color: var(--sklearn-color-text);\n",
       "  background-color: var(--sklearn-color-fitted-level-2);\n",
       "}\n",
       "\n",
       "/* Estimator label */\n",
       "\n",
       "#sk-container-id-1 div.sk-label label {\n",
       "  font-family: monospace;\n",
       "  font-weight: bold;\n",
       "  display: inline-block;\n",
       "  line-height: 1.2em;\n",
       "}\n",
       "\n",
       "#sk-container-id-1 div.sk-label-container {\n",
       "  text-align: center;\n",
       "}\n",
       "\n",
       "/* Estimator-specific */\n",
       "#sk-container-id-1 div.sk-estimator {\n",
       "  font-family: monospace;\n",
       "  border: 1px dotted var(--sklearn-color-border-box);\n",
       "  border-radius: 0.25em;\n",
       "  box-sizing: border-box;\n",
       "  margin-bottom: 0.5em;\n",
       "  /* unfitted */\n",
       "  background-color: var(--sklearn-color-unfitted-level-0);\n",
       "}\n",
       "\n",
       "#sk-container-id-1 div.sk-estimator.fitted {\n",
       "  /* fitted */\n",
       "  background-color: var(--sklearn-color-fitted-level-0);\n",
       "}\n",
       "\n",
       "/* on hover */\n",
       "#sk-container-id-1 div.sk-estimator:hover {\n",
       "  /* unfitted */\n",
       "  background-color: var(--sklearn-color-unfitted-level-2);\n",
       "}\n",
       "\n",
       "#sk-container-id-1 div.sk-estimator.fitted:hover {\n",
       "  /* fitted */\n",
       "  background-color: var(--sklearn-color-fitted-level-2);\n",
       "}\n",
       "\n",
       "/* Specification for estimator info (e.g. \"i\" and \"?\") */\n",
       "\n",
       "/* Common style for \"i\" and \"?\" */\n",
       "\n",
       ".sk-estimator-doc-link,\n",
       "a:link.sk-estimator-doc-link,\n",
       "a:visited.sk-estimator-doc-link {\n",
       "  float: right;\n",
       "  font-size: smaller;\n",
       "  line-height: 1em;\n",
       "  font-family: monospace;\n",
       "  background-color: var(--sklearn-color-background);\n",
       "  border-radius: 1em;\n",
       "  height: 1em;\n",
       "  width: 1em;\n",
       "  text-decoration: none !important;\n",
       "  margin-left: 0.5em;\n",
       "  text-align: center;\n",
       "  /* unfitted */\n",
       "  border: var(--sklearn-color-unfitted-level-1) 1pt solid;\n",
       "  color: var(--sklearn-color-unfitted-level-1);\n",
       "}\n",
       "\n",
       ".sk-estimator-doc-link.fitted,\n",
       "a:link.sk-estimator-doc-link.fitted,\n",
       "a:visited.sk-estimator-doc-link.fitted {\n",
       "  /* fitted */\n",
       "  border: var(--sklearn-color-fitted-level-1) 1pt solid;\n",
       "  color: var(--sklearn-color-fitted-level-1);\n",
       "}\n",
       "\n",
       "/* On hover */\n",
       "div.sk-estimator:hover .sk-estimator-doc-link:hover,\n",
       ".sk-estimator-doc-link:hover,\n",
       "div.sk-label-container:hover .sk-estimator-doc-link:hover,\n",
       ".sk-estimator-doc-link:hover {\n",
       "  /* unfitted */\n",
       "  background-color: var(--sklearn-color-unfitted-level-3);\n",
       "  color: var(--sklearn-color-background);\n",
       "  text-decoration: none;\n",
       "}\n",
       "\n",
       "div.sk-estimator.fitted:hover .sk-estimator-doc-link.fitted:hover,\n",
       ".sk-estimator-doc-link.fitted:hover,\n",
       "div.sk-label-container:hover .sk-estimator-doc-link.fitted:hover,\n",
       ".sk-estimator-doc-link.fitted:hover {\n",
       "  /* fitted */\n",
       "  background-color: var(--sklearn-color-fitted-level-3);\n",
       "  color: var(--sklearn-color-background);\n",
       "  text-decoration: none;\n",
       "}\n",
       "\n",
       "/* Span, style for the box shown on hovering the info icon */\n",
       ".sk-estimator-doc-link span {\n",
       "  display: none;\n",
       "  z-index: 9999;\n",
       "  position: relative;\n",
       "  font-weight: normal;\n",
       "  right: .2ex;\n",
       "  padding: .5ex;\n",
       "  margin: .5ex;\n",
       "  width: min-content;\n",
       "  min-width: 20ex;\n",
       "  max-width: 50ex;\n",
       "  color: var(--sklearn-color-text);\n",
       "  box-shadow: 2pt 2pt 4pt #999;\n",
       "  /* unfitted */\n",
       "  background: var(--sklearn-color-unfitted-level-0);\n",
       "  border: .5pt solid var(--sklearn-color-unfitted-level-3);\n",
       "}\n",
       "\n",
       ".sk-estimator-doc-link.fitted span {\n",
       "  /* fitted */\n",
       "  background: var(--sklearn-color-fitted-level-0);\n",
       "  border: var(--sklearn-color-fitted-level-3);\n",
       "}\n",
       "\n",
       ".sk-estimator-doc-link:hover span {\n",
       "  display: block;\n",
       "}\n",
       "\n",
       "/* \"?\"-specific style due to the `<a>` HTML tag */\n",
       "\n",
       "#sk-container-id-1 a.estimator_doc_link {\n",
       "  float: right;\n",
       "  font-size: 1rem;\n",
       "  line-height: 1em;\n",
       "  font-family: monospace;\n",
       "  background-color: var(--sklearn-color-background);\n",
       "  border-radius: 1rem;\n",
       "  height: 1rem;\n",
       "  width: 1rem;\n",
       "  text-decoration: none;\n",
       "  /* unfitted */\n",
       "  color: var(--sklearn-color-unfitted-level-1);\n",
       "  border: var(--sklearn-color-unfitted-level-1) 1pt solid;\n",
       "}\n",
       "\n",
       "#sk-container-id-1 a.estimator_doc_link.fitted {\n",
       "  /* fitted */\n",
       "  border: var(--sklearn-color-fitted-level-1) 1pt solid;\n",
       "  color: var(--sklearn-color-fitted-level-1);\n",
       "}\n",
       "\n",
       "/* On hover */\n",
       "#sk-container-id-1 a.estimator_doc_link:hover {\n",
       "  /* unfitted */\n",
       "  background-color: var(--sklearn-color-unfitted-level-3);\n",
       "  color: var(--sklearn-color-background);\n",
       "  text-decoration: none;\n",
       "}\n",
       "\n",
       "#sk-container-id-1 a.estimator_doc_link.fitted:hover {\n",
       "  /* fitted */\n",
       "  background-color: var(--sklearn-color-fitted-level-3);\n",
       "}\n",
       "</style><div id=\"sk-container-id-1\" class=\"sk-top-container\"><div class=\"sk-text-repr-fallback\"><pre>LogisticRegression()</pre><b>In a Jupyter environment, please rerun this cell to show the HTML representation or trust the notebook. <br />On GitHub, the HTML representation is unable to render, please try loading this page with nbviewer.org.</b></div><div class=\"sk-container\" hidden><div class=\"sk-item\"><div class=\"sk-estimator fitted sk-toggleable\"><input class=\"sk-toggleable__control sk-hidden--visually\" id=\"sk-estimator-id-1\" type=\"checkbox\" checked><label for=\"sk-estimator-id-1\" class=\"sk-toggleable__label fitted sk-toggleable__label-arrow\"><div><div>LogisticRegression</div></div><div><a class=\"sk-estimator-doc-link fitted\" rel=\"noreferrer\" target=\"_blank\" href=\"https://scikit-learn.org/1.6/modules/generated/sklearn.linear_model.LogisticRegression.html\">?<span>Documentation for LogisticRegression</span></a><span class=\"sk-estimator-doc-link fitted\">i<span>Fitted</span></span></div></label><div class=\"sk-toggleable__content fitted\"><pre>LogisticRegression()</pre></div> </div></div></div></div>"
      ],
      "text/plain": [
       "LogisticRegression()"
      ]
     },
     "execution_count": 57,
     "metadata": {},
     "output_type": "execute_result"
    }
   ],
   "source": [
    "lr = LogisticRegression()\n",
    "lr.fit(X_train_vec, y_train)"
   ]
  },
  {
   "cell_type": "code",
   "execution_count": 59,
   "id": "d9120f0c-7b78-4e8f-b493-10bdff39c6b1",
   "metadata": {},
   "outputs": [
    {
     "name": "stdout",
     "output_type": "stream",
     "text": [
      "[[2332  406]\n",
      " [ 369 1161]]\n"
     ]
    }
   ],
   "source": [
    "print(confusion_matrix(lr.predict(X_test_vec), y_test))"
   ]
  },
  {
   "cell_type": "code",
   "execution_count": 60,
   "id": "aab35072-9f1f-4bc0-854d-12bb72fa8533",
   "metadata": {},
   "outputs": [
    {
     "name": "stdout",
     "output_type": "stream",
     "text": [
      "              precision    recall  f1-score   support\n",
      "\n",
      "    negative       0.86      0.85      0.86      2738\n",
      "    positive       0.74      0.76      0.75      1530\n",
      "\n",
      "    accuracy                           0.82      4268\n",
      "   macro avg       0.80      0.81      0.80      4268\n",
      "weighted avg       0.82      0.82      0.82      4268\n",
      "\n"
     ]
    }
   ],
   "source": [
    "print(classification_report(lr.predict(X_test_vec), y_test))"
   ]
  },
  {
   "cell_type": "code",
   "execution_count": 61,
   "id": "2ee70dba-d32d-49dc-9e32-b51d207f45e0",
   "metadata": {},
   "outputs": [
    {
     "name": "stdout",
     "output_type": "stream",
     "text": [
      "[[2484  632]\n",
      " [ 217  935]]\n",
      "              precision    recall  f1-score   support\n",
      "\n",
      "    negative       0.92      0.80      0.85      3116\n",
      "    positive       0.60      0.81      0.69      1152\n",
      "\n",
      "    accuracy                           0.80      4268\n",
      "   macro avg       0.76      0.80      0.77      4268\n",
      "weighted avg       0.83      0.80      0.81      4268\n",
      "\n"
     ]
    }
   ],
   "source": [
    "#train and evaluate the multinominal Naive Baysian Classifier model \n",
    "MNB = MultinomialNB()\n",
    "MNB.fit(X_train_vec,y_train)\n",
    "print(confusion_matrix(MNB.predict(X_test_vec),y_test))\n",
    "print(classification_report(MNB.predict(X_test_vec),y_test))"
   ]
  },
  {
   "cell_type": "code",
   "execution_count": 63,
   "id": "5faba8e9-89d6-4a11-9213-574bdc56aa20",
   "metadata": {},
   "outputs": [
    {
     "name": "stdout",
     "output_type": "stream",
     "text": [
      "[[2381  531]\n",
      " [ 320 1036]]\n",
      "              precision    recall  f1-score   support\n",
      "\n",
      "    negative       0.88      0.82      0.85      2912\n",
      "    positive       0.66      0.76      0.71      1356\n",
      "\n",
      "    accuracy                           0.80      4268\n",
      "   macro avg       0.77      0.79      0.78      4268\n",
      "weighted avg       0.81      0.80      0.80      4268\n",
      "\n"
     ]
    }
   ],
   "source": [
    "#train and evaluate the RF classifier model\n",
    "rf = RandomForestClassifier(n_estimators=100)\n",
    "rf.fit(X_train_vec,y_train)\n",
    "print(confusion_matrix(rf.predict(X_test_vec),y_test))\n",
    "print(classification_report(rf.predict(X_test_vec),y_test))\n"
   ]
  },
  {
   "cell_type": "code",
   "execution_count": 64,
   "id": "ac0043ab-b57f-42b8-b9e6-aa49ee4b893b",
   "metadata": {},
   "outputs": [
    {
     "name": "stdout",
     "output_type": "stream",
     "text": [
      "[[2457  537]\n",
      " [ 244 1030]]\n",
      "              precision    recall  f1-score   support\n",
      "\n",
      "    negative       0.91      0.82      0.86      2994\n",
      "    positive       0.66      0.81      0.73      1274\n",
      "\n",
      "    accuracy                           0.82      4268\n",
      "   macro avg       0.78      0.81      0.79      4268\n",
      "weighted avg       0.83      0.82      0.82      4268\n",
      "\n"
     ]
    }
   ],
   "source": [
    "# Use TF-IDF and train logistic regression\n",
    "vectorizertfidf = TfidfVectorizer(use_idf=True)\n",
    "X_train_tfvec = vectorizertfidf.fit_transform(X_train)\n",
    "X_test_tfvec = vectorizertfidf.transform(X_test)\n",
    "lr = LogisticRegression()\n",
    "lr.fit(X_train_tfvec,y_train)\n",
    "#evaluate the performance of logistic model on test data \n",
    "print(confusion_matrix(lr.predict(X_test_tfvec),y_test))\n",
    "print(classification_report(lr.predict(X_test_tfvec),y_test))"
   ]
  },
  {
   "cell_type": "code",
   "execution_count": 65,
   "id": "a4d181b8-3712-43c5-8877-cf798b9e5e8e",
   "metadata": {},
   "outputs": [
    {
     "name": "stdout",
     "output_type": "stream",
     "text": [
      "[[2432  579]\n",
      " [ 269  988]]\n",
      "              precision    recall  f1-score   support\n",
      "\n",
      "    negative       0.90      0.81      0.85      3011\n",
      "    positive       0.63      0.79      0.70      1257\n",
      "\n",
      "    accuracy                           0.80      4268\n",
      "   macro avg       0.77      0.80      0.78      4268\n",
      "weighted avg       0.82      0.80      0.81      4268\n",
      "\n"
     ]
    }
   ],
   "source": [
    "#train and evaluate the RF classifier model\n",
    "rf = RandomForestClassifier(n_estimators=200, random_state=0)\n",
    "rf.fit(X_train_tfvec,y_train)\n",
    "print(confusion_matrix(rf.predict(X_test_tfvec),y_test))\n",
    "print(classification_report(rf.predict(X_test_tfvec),y_test))"
   ]
  },
  {
   "cell_type": "code",
   "execution_count": 66,
   "id": "efa7ec2a-5fc3-45e6-93cd-ead128e38d9a",
   "metadata": {},
   "outputs": [
    {
     "name": "stdout",
     "output_type": "stream",
     "text": [
      "[[2639  935]\n",
      " [  62  632]]\n",
      "              precision    recall  f1-score   support\n",
      "\n",
      "    negative       0.98      0.74      0.84      3574\n",
      "    positive       0.40      0.91      0.56       694\n",
      "\n",
      "    accuracy                           0.77      4268\n",
      "   macro avg       0.69      0.82      0.70      4268\n",
      "weighted avg       0.88      0.77      0.80      4268\n",
      "\n"
     ]
    }
   ],
   "source": [
    "#train and evaluate the multinominal Naive Baysian Classifier model \n",
    "MNB =  MultinomialNB()\n",
    "MNB.fit(X_train_tfvec,y_train)\n",
    "print(confusion_matrix(MNB.predict(X_test_tfvec),y_test))\n",
    "print(classification_report(MNB.predict(X_test_tfvec),y_test))"
   ]
  },
  {
   "cell_type": "code",
   "execution_count": 67,
   "id": "c72cf816-db9d-427d-a7e1-1256d686fe7f",
   "metadata": {},
   "outputs": [
    {
     "name": "stdout",
     "output_type": "stream",
     "text": [
      "[[2359  429]\n",
      " [ 342 1138]]\n",
      "              precision    recall  f1-score   support\n",
      "\n",
      "    negative       0.87      0.85      0.86      2788\n",
      "    positive       0.73      0.77      0.75      1480\n",
      "\n",
      "    accuracy                           0.82      4268\n",
      "   macro avg       0.80      0.81      0.80      4268\n",
      "weighted avg       0.82      0.82      0.82      4268\n",
      "\n"
     ]
    }
   ],
   "source": [
    "#train and evaluate the Linear Support Vector Classifier model \n",
    "SVC = LinearSVC()\n",
    "SVC.fit(X_train_tfvec,y_train)\n",
    "print(confusion_matrix(SVC.predict(X_test_tfvec),y_test))\n",
    "print(classification_report(SVC.predict(X_test_tfvec),y_test))"
   ]
  },
  {
   "cell_type": "code",
   "execution_count": 69,
   "id": "ddc83ff8-4154-4034-b5e1-8bea0e71ec0b",
   "metadata": {},
   "outputs": [],
   "source": [
    "#load the test data\n",
    "test_df=pd.read_csv('test_tweets.csv')"
   ]
  },
  {
   "cell_type": "code",
   "execution_count": 70,
   "id": "2b132e66-910c-4c90-9061-f39c6ca68daa",
   "metadata": {},
   "outputs": [
    {
     "data": {
      "text/plain": [
       "(202, 2)"
      ]
     },
     "execution_count": 70,
     "metadata": {},
     "output_type": "execute_result"
    }
   ],
   "source": [
    "#validate the size of the test data \n",
    "test_df.shape"
   ]
  },
  {
   "cell_type": "code",
   "execution_count": 72,
   "id": "78faec01-2a09-47ac-92a7-83ab01ebe948",
   "metadata": {},
   "outputs": [],
   "source": [
    "#remove the stopwords from the test data \n",
    "test_df[\"tweet\"]=test_df[\"tweet\"].apply(lambda x: ' '.join([word for word in x.split() if word not in (STOPWORDS)]))"
   ]
  },
  {
   "cell_type": "code",
   "execution_count": 73,
   "id": "1fbbe444-fa39-4740-8dfe-140b7450dc8f",
   "metadata": {},
   "outputs": [],
   "source": [
    "#convert the test tweet data into tfidf vector using pre-trained vectorisor\n",
    "test_vec = vectorizertfidf.transform(test_df['tweet'])"
   ]
  },
  {
   "cell_type": "code",
   "execution_count": 74,
   "id": "7f18bca4-f49d-4253-8d07-ba4330716c84",
   "metadata": {},
   "outputs": [],
   "source": [
    "#make the predictions on the test data using trained logistic regression model \n",
    "predictions=lr.predict(test_vec)"
   ]
  },
  {
   "cell_type": "code",
   "execution_count": 75,
   "id": "1eac99ec-ccc1-4c14-8f9d-c14d68ca5b43",
   "metadata": {},
   "outputs": [
    {
     "name": "stdout",
     "output_type": "stream",
     "text": [
      "[[ 61  15]\n",
      " [ 23 103]]\n",
      "              precision    recall  f1-score   support\n",
      "\n",
      "    negative       0.73      0.80      0.76        76\n",
      "    positive       0.87      0.82      0.84       126\n",
      "\n",
      "    accuracy                           0.81       202\n",
      "   macro avg       0.80      0.81      0.80       202\n",
      "weighted avg       0.82      0.81      0.81       202\n",
      "\n"
     ]
    }
   ],
   "source": [
    "#check for the performance of the model on test data \n",
    "print(confusion_matrix(predictions,test_df['label']))\n",
    "print(classification_report(predictions,test_df['label']))"
   ]
  },
  {
   "cell_type": "code",
   "execution_count": 76,
   "id": "81e18888-d4af-478b-9f24-38091ac12f62",
   "metadata": {},
   "outputs": [
    {
     "data": {
      "text/html": [
       "<div>\n",
       "<style scoped>\n",
       "    .dataframe tbody tr th:only-of-type {\n",
       "        vertical-align: middle;\n",
       "    }\n",
       "\n",
       "    .dataframe tbody tr th {\n",
       "        vertical-align: top;\n",
       "    }\n",
       "\n",
       "    .dataframe thead th {\n",
       "        text-align: right;\n",
       "    }\n",
       "</style>\n",
       "<table border=\"1\" class=\"dataframe\">\n",
       "  <thead>\n",
       "    <tr style=\"text-align: right;\">\n",
       "      <th></th>\n",
       "      <th>label</th>\n",
       "      <th>tweet</th>\n",
       "      <th>predictions</th>\n",
       "    </tr>\n",
       "  </thead>\n",
       "  <tbody>\n",
       "    <tr>\n",
       "      <th>0</th>\n",
       "      <td>positive</td>\n",
       "      <td>@VirginAmerica What @dhepburn said.</td>\n",
       "      <td>positive</td>\n",
       "    </tr>\n",
       "    <tr>\n",
       "      <th>1</th>\n",
       "      <td>positive</td>\n",
       "      <td>@VirginAmerica plus added commercials experien...</td>\n",
       "      <td>positive</td>\n",
       "    </tr>\n",
       "    <tr>\n",
       "      <th>2</th>\n",
       "      <td>positive</td>\n",
       "      <td>@VirginAmerica I today... Must mean I need tak...</td>\n",
       "      <td>positive</td>\n",
       "    </tr>\n",
       "    <tr>\n",
       "      <th>3</th>\n",
       "      <td>negative</td>\n",
       "      <td>@VirginAmerica really aggressive blast obnoxio...</td>\n",
       "      <td>negative</td>\n",
       "    </tr>\n",
       "    <tr>\n",
       "      <th>4</th>\n",
       "      <td>negative</td>\n",
       "      <td>@VirginAmerica really big bad thing</td>\n",
       "      <td>positive</td>\n",
       "    </tr>\n",
       "  </tbody>\n",
       "</table>\n",
       "</div>"
      ],
      "text/plain": [
       "      label                                              tweet predictions\n",
       "0  positive                @VirginAmerica What @dhepburn said.    positive\n",
       "1  positive  @VirginAmerica plus added commercials experien...    positive\n",
       "2  positive  @VirginAmerica I today... Must mean I need tak...    positive\n",
       "3  negative  @VirginAmerica really aggressive blast obnoxio...    negative\n",
       "4  negative                @VirginAmerica really big bad thing    positive"
      ]
     },
     "execution_count": 76,
     "metadata": {},
     "output_type": "execute_result"
    }
   ],
   "source": [
    "#add the model predictions to the test data \n",
    "test_df['predictions']=predictions\n",
    "#validate the final test dataframe \n",
    "test_df.head()"
   ]
  },
  {
   "cell_type": "code",
   "execution_count": 77,
   "id": "0cd0fe0b-efb8-4275-acae-80aac5e0e171",
   "metadata": {},
   "outputs": [],
   "source": [
    "#export the final submission file consisting model prediction on test data \n",
    "test_df.to_csv('final_prediction.csv')"
   ]
  }
 ],
 "metadata": {
  "kernelspec": {
   "display_name": "Python 3 (ipykernel)",
   "language": "python",
   "name": "python3"
  },
  "language_info": {
   "codemirror_mode": {
    "name": "ipython",
    "version": 3
   },
   "file_extension": ".py",
   "mimetype": "text/x-python",
   "name": "python",
   "nbconvert_exporter": "python",
   "pygments_lexer": "ipython3",
   "version": "3.12.9"
  }
 },
 "nbformat": 4,
 "nbformat_minor": 5
}
